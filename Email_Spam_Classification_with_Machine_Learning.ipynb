{
  "nbformat": 4,
  "nbformat_minor": 0,
  "metadata": {
    "colab": {
      "provenance": [],
      "gpuType": "T4"
    },
    "kernelspec": {
      "name": "python3",
      "display_name": "Python 3"
    },
    "language_info": {
      "name": "python"
    },
    "accelerator": "GPU"
  },
  "cells": [
    {
      "cell_type": "code",
      "execution_count": 1,
      "metadata": {
        "colab": {
          "base_uri": "https://localhost:8080/"
        },
        "id": "ARUJ5ckNOMV4",
        "outputId": "ccfb992b-bc38-404c-cd16-3af474f9cb0c"
      },
      "outputs": [
        {
          "output_type": "stream",
          "name": "stdout",
          "text": [
            "Accuracy: 94.85%\n",
            "\n",
            "Classification Report:\n",
            "              precision    recall  f1-score   support\n",
            "\n",
            "           0       0.98      0.95      0.96      1097\n",
            "           1       0.88      0.95      0.92       455\n",
            "\n",
            "    accuracy                           0.95      1552\n",
            "   macro avg       0.93      0.95      0.94      1552\n",
            "weighted avg       0.95      0.95      0.95      1552\n",
            "\n",
            "\n",
            "Confusion Matrix:\n",
            "[[1039   58]\n",
            " [  22  433]]\n"
          ]
        }
      ],
      "source": [
        "# Import necessary libraries\n",
        "import pandas as pd\n",
        "from sklearn.model_selection import train_test_split\n",
        "from sklearn.naive_bayes import MultinomialNB\n",
        "from sklearn.metrics import accuracy_score, confusion_matrix, classification_report\n",
        "\n",
        "# Load the dataset from the uploaded CSV\n",
        "df = pd.read_csv('/content/emails.csv')  # Replace with your actual path in Colab\n",
        "\n",
        "# Drop the 'Email No.' column as it's not useful for training\n",
        "df = df.drop(columns=['Email No.'])\n",
        "\n",
        "# Split the data into features and labels\n",
        "X = df.drop(columns=['Prediction'])  # Features (word counts)\n",
        "y = df['Prediction']  # Labels (spam or not spam)\n",
        "\n",
        "# Train-test split\n",
        "X_train, X_test, y_train, y_test = train_test_split(X, y, test_size=0.3, random_state=42)\n",
        "\n",
        "# Initialize the Naive Bayes model\n",
        "nb_model = MultinomialNB()\n",
        "\n",
        "# Train the model\n",
        "nb_model.fit(X_train, y_train)\n",
        "\n",
        "# Make predictions\n",
        "y_pred = nb_model.predict(X_test)\n",
        "\n",
        "# Evaluate the model\n",
        "accuracy = accuracy_score(y_test, y_pred)\n",
        "print(f'Accuracy: {accuracy * 100:.2f}%')\n",
        "\n",
        "# Classification Report\n",
        "print(\"\\nClassification Report:\")\n",
        "print(classification_report(y_test, y_pred))\n",
        "\n",
        "# Confusion Matrix\n",
        "print(\"\\nConfusion Matrix:\")\n",
        "print(confusion_matrix(y_test, y_pred))\n"
      ]
    },
    {
      "cell_type": "code",
      "source": [],
      "metadata": {
        "id": "c_jIq1IPPCAI"
      },
      "execution_count": null,
      "outputs": []
    }
  ]
}